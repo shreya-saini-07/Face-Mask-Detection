{
  "cells": [
    {
      "cell_type": "markdown",
      "metadata": {
        "id": "nHj1SwULCCsF"
      },
      "source": [
        "# Convolutional Neural Network Architecture\n"
      ]
    },
    {
      "cell_type": "code",
      "execution_count": 3,
      "metadata": {
        "colab": {
          "base_uri": "https://localhost:8080/"
        },
        "id": "ny6xNWmQCCsJ",
        "outputId": "ae780190-2d2c-46c5-cca1-6cd45370aefc"
      },
      "outputs": [
        {
          "output_type": "stream",
          "name": "stdout",
          "text": [
            "Mounted at /content/drive\n"
          ]
        }
      ],
      "source": [
        "import numpy as np\n",
        "\n",
        "from google.colab import drive\n",
        "drive.mount('/content/drive')\n",
        "\n"
      ]
    },
    {
      "cell_type": "code",
      "execution_count": 4,
      "metadata": {
        "id": "C1g2VwyRChds"
      },
      "outputs": [],
      "source": [
        "data=np.load('/content/drive/My Drive/CTWS/Project1/data.npy')\n",
        "target=np.load('/content/drive/My Drive/CTWS/Project1/target.npy')\n",
        "\n",
        "#loading the save numpy arrays in the previous code"
      ]
    },
    {
      "cell_type": "code",
      "execution_count": 5,
      "metadata": {
        "id": "7UkSDoaICCsM"
      },
      "outputs": [],
      "source": [
        "from keras.models import Sequential\n",
        "from keras.layers import Dense,Activation,Flatten,Dropout\n",
        "from keras.layers import Conv2D,MaxPooling2D\n",
        "from keras.callbacks import ModelCheckpoint\n",
        "\n",
        "model=Sequential()\n",
        "\n",
        "model.add(Conv2D(200,(3,3),input_shape=data.shape[1:]))\n",
        "model.add(Activation('relu'))\n",
        "model.add(MaxPooling2D(pool_size=(2,2)))\n",
        "#The first CNN layer followed by Relu and MaxPooling layers\n",
        "\n",
        "model.add(Conv2D(100,(3,3)))\n",
        "model.add(Activation('relu'))\n",
        "model.add(MaxPooling2D(pool_size=(2,2)))\n",
        "#The second convolution layer followed by Relu and MaxPooling layers\n",
        "\n",
        "model.add(Flatten())\n",
        "model.add(Dropout(0.5))\n",
        "#Flatten layer to stack the output convolutions from second convolution layer\n",
        "model.add(Dense(50,activation='relu'))\n",
        "#Dense layer of 64 neurons\n",
        "model.add(Dense(2,activation='softmax'))\n",
        "#The Final layer with two outputs for two categories\n",
        "\n",
        "model.compile(loss='categorical_crossentropy',optimizer='adam',metrics=['accuracy'])"
      ]
    },
    {
      "cell_type": "code",
      "execution_count": 6,
      "metadata": {
        "id": "Jp9HCHkgCCsN"
      },
      "outputs": [],
      "source": [
        "from sklearn.model_selection import train_test_split\n",
        "\n",
        "train_data,test_data,train_target,test_target=train_test_split(data,target,test_size=0.1)"
      ]
    },
    {
      "cell_type": "code",
      "execution_count": 7,
      "metadata": {
        "colab": {
          "base_uri": "https://localhost:8080/"
        },
        "id": "1AstwoKdCCsO",
        "outputId": "2fff669a-c954-4a04-8355-855c5b57c0ec"
      },
      "outputs": [
        {
          "output_type": "stream",
          "name": "stdout",
          "text": [
            "Epoch 1/20\n",
            "31/31 [==============================] - ETA: 0s - loss: 0.6922 - accuracy: 0.5828INFO:tensorflow:Assets written to: model-001.model/assets\n",
            "31/31 [==============================] - 72s 2s/step - loss: 0.6922 - accuracy: 0.5828 - val_loss: 0.6573 - val_accuracy: 0.5766\n",
            "Epoch 2/20\n",
            "31/31 [==============================] - ETA: 0s - loss: 0.4828 - accuracy: 0.7687INFO:tensorflow:Assets written to: model-002.model/assets\n",
            "31/31 [==============================] - 72s 2s/step - loss: 0.4828 - accuracy: 0.7687 - val_loss: 0.3377 - val_accuracy: 0.8871\n",
            "Epoch 3/20\n",
            "31/31 [==============================] - ETA: 0s - loss: 0.2626 - accuracy: 0.9020INFO:tensorflow:Assets written to: model-003.model/assets\n",
            "31/31 [==============================] - 71s 2s/step - loss: 0.2626 - accuracy: 0.9020 - val_loss: 0.2478 - val_accuracy: 0.9194\n",
            "Epoch 4/20\n",
            "31/31 [==============================] - ETA: 0s - loss: 0.1806 - accuracy: 0.9263INFO:tensorflow:Assets written to: model-004.model/assets\n",
            "31/31 [==============================] - 71s 2s/step - loss: 0.1806 - accuracy: 0.9263 - val_loss: 0.1758 - val_accuracy: 0.9355\n",
            "Epoch 5/20\n",
            "31/31 [==============================] - ETA: 0s - loss: 0.1628 - accuracy: 0.9424INFO:tensorflow:Assets written to: model-005.model/assets\n",
            "31/31 [==============================] - 70s 2s/step - loss: 0.1628 - accuracy: 0.9424 - val_loss: 0.1556 - val_accuracy: 0.9395\n",
            "Epoch 6/20\n",
            "31/31 [==============================] - 69s 2s/step - loss: 0.1094 - accuracy: 0.9576 - val_loss: 0.2418 - val_accuracy: 0.9113\n",
            "Epoch 7/20\n",
            "31/31 [==============================] - ETA: 0s - loss: 0.1572 - accuracy: 0.9455INFO:tensorflow:Assets written to: model-007.model/assets\n",
            "31/31 [==============================] - 70s 2s/step - loss: 0.1572 - accuracy: 0.9455 - val_loss: 0.1479 - val_accuracy: 0.9435\n",
            "Epoch 8/20\n",
            "31/31 [==============================] - 69s 2s/step - loss: 0.0714 - accuracy: 0.9798 - val_loss: 0.1503 - val_accuracy: 0.9435\n",
            "Epoch 9/20\n",
            "31/31 [==============================] - 69s 2s/step - loss: 0.0660 - accuracy: 0.9788 - val_loss: 0.1610 - val_accuracy: 0.9355\n",
            "Epoch 10/20\n",
            "31/31 [==============================] - ETA: 0s - loss: 0.0384 - accuracy: 0.9879INFO:tensorflow:Assets written to: model-010.model/assets\n",
            "31/31 [==============================] - 70s 2s/step - loss: 0.0384 - accuracy: 0.9879 - val_loss: 0.1226 - val_accuracy: 0.9597\n",
            "Epoch 11/20\n",
            "31/31 [==============================] - 71s 2s/step - loss: 0.0563 - accuracy: 0.9798 - val_loss: 0.1452 - val_accuracy: 0.9395\n",
            "Epoch 12/20\n",
            "31/31 [==============================] - 69s 2s/step - loss: 0.0646 - accuracy: 0.9788 - val_loss: 0.2237 - val_accuracy: 0.9274\n",
            "Epoch 13/20\n",
            "31/31 [==============================] - 70s 2s/step - loss: 0.0414 - accuracy: 0.9869 - val_loss: 0.1997 - val_accuracy: 0.9395\n",
            "Epoch 14/20\n",
            "31/31 [==============================] - 69s 2s/step - loss: 0.0323 - accuracy: 0.9859 - val_loss: 0.1398 - val_accuracy: 0.9556\n",
            "Epoch 15/20\n",
            "31/31 [==============================] - 70s 2s/step - loss: 0.0201 - accuracy: 0.9929 - val_loss: 0.1736 - val_accuracy: 0.9476\n",
            "Epoch 16/20\n",
            "31/31 [==============================] - ETA: 0s - loss: 0.0398 - accuracy: 0.9859INFO:tensorflow:Assets written to: model-016.model/assets\n",
            "31/31 [==============================] - 71s 2s/step - loss: 0.0398 - accuracy: 0.9859 - val_loss: 0.1171 - val_accuracy: 0.9677\n",
            "Epoch 17/20\n",
            "31/31 [==============================] - 69s 2s/step - loss: 0.0341 - accuracy: 0.9859 - val_loss: 0.1536 - val_accuracy: 0.9435\n",
            "Epoch 18/20\n",
            "31/31 [==============================] - 70s 2s/step - loss: 0.0157 - accuracy: 0.9949 - val_loss: 0.1563 - val_accuracy: 0.9516\n",
            "Epoch 19/20\n",
            "31/31 [==============================] - 69s 2s/step - loss: 0.0204 - accuracy: 0.9939 - val_loss: 0.2250 - val_accuracy: 0.9476\n",
            "Epoch 20/20\n",
            "31/31 [==============================] - 69s 2s/step - loss: 0.0228 - accuracy: 0.9919 - val_loss: 0.1501 - val_accuracy: 0.9597\n"
          ]
        }
      ],
      "source": [
        "checkpoint = ModelCheckpoint('model-{epoch:03d}.model',monitor='val_loss',verbose=0,save_best_only=True,mode='auto')\n",
        "history=model.fit(train_data,train_target,epochs=20,callbacks=[checkpoint],validation_split=0.2)"
      ]
    },
    {
      "cell_type": "code",
      "execution_count": 8,
      "metadata": {
        "id": "tyJiYJ_hCCsQ",
        "outputId": "1b972b7c-3de5-45e2-d908-8e366b34ecf1",
        "colab": {
          "base_uri": "https://localhost:8080/",
          "height": 279
        }
      },
      "outputs": [
        {
          "output_type": "display_data",
          "data": {
            "text/plain": [
              "<Figure size 432x288 with 1 Axes>"
            ],
            "image/png": "[encoded data removed]"
          },
          "metadata": {
            "needs_background": "light"
          }
        }
      ],
      "source": [
        "from matplotlib import pyplot as plt\n",
        "\n",
        "plt.plot(history.history['loss'],'r',label='training loss')\n",
        "plt.plot(history.history['val_loss'],label='validation loss')\n",
        "plt.xlabel('# epochs')\n",
        "plt.ylabel('loss')\n",
        "plt.legend()\n",
        "plt.show()"
      ]
    },
    {
      "cell_type": "code",
      "execution_count": 9,
      "metadata": {
        "id": "1E73K_InCCsR",
        "outputId": "ff5e6ae1-b545-49fc-ff23-6dc49ca0deea",
        "colab": {
          "base_uri": "https://localhost:8080/",
          "height": 279
        }
      },
      "outputs": [
        {
          "output_type": "display_data",
          "data": {
            "text/plain": [
              "<Figure size 432x288 with 1 Axes>"
            ],
            "image/png": "[encoded data removed]"
          },
          "metadata": {
            "needs_background": "light"
          }
        }
      ],
      "source": [
        "plt.plot(history.history['accuracy'],'r',label='training accuracy')\n",
        "plt.plot(history.history['val_accuracy'],label='validation accuracy')\n",
        "plt.xlabel('# epochs')\n",
        "plt.ylabel('loss')\n",
        "plt.legend()\n",
        "plt.show()"
      ]
    },
    {
      "cell_type": "code",
      "execution_count": 10,
      "metadata": {
        "id": "SkI09wiSCCsT",
        "outputId": "d285376c-9e7e-48e3-f0c6-bd54918133af",
        "colab": {
          "base_uri": "https://localhost:8080/"
        }
      },
      "outputs": [
        {
          "output_type": "stream",
          "name": "stdout",
          "text": [
            "5/5 [==============================] - 7s 1s/step - loss: 0.2641 - accuracy: 0.9348\n",
            "[0.2640957832336426, 0.9347826242446899]\n"
          ]
        }
      ],
      "source": [
        "print(model.evaluate(test_data,test_target))"
      ]
    }
  ],
  "metadata": {
    "colab": {
      "name": "2.0 training the CNN.ipynb",
      "provenance": []
    },
    "kernelspec": {
      "display_name": "Python 3",
      "language": "python",
      "name": "python3"
    },
    "language_info": {
      "codemirror_mode": {
        "name": "ipython",
        "version": 3
      },
      "file_extension": ".py",
      "mimetype": "text/x-python",
      "name": "python",
      "nbconvert_exporter": "python",
      "pygments_lexer": "ipython3",
      "version": "3.7.4"
    }
  },
  "nbformat": 4,
  "nbformat_minor": 0
}